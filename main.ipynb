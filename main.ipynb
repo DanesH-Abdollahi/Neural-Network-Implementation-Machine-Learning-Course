{
  "cells": [
    {
      "cell_type": "code",
      "execution_count": 1,
      "metadata": {
        "id": "T2acGt2uIlp0"
      },
      "outputs": [],
      "source": [
        "# Danesh Abdollahi _ 9723053 _ HW2 _ Question 2 _ Dr.Seyyedin _ Fall 2021"
      ]
    },
    {
      "cell_type": "code",
      "execution_count": 2,
      "metadata": {
        "id": "JWzbN_5lIvRU"
      },
      "outputs": [],
      "source": [
        "# Import Libraries\n",
        "from sklearn.neural_network import MLPRegressor\n",
        "from sklearn.neural_network import MLPClassifier \n",
        "import numpy as np\n",
        "import pandas as pd\n",
        "from matplotlib import pyplot as plt\n",
        "from sklearn.model_selection import train_test_split\n",
        "from sklearn.metrics import confusion_matrix , ConfusionMatrixDisplay\n",
        "from sklearn.utils import shuffle\n",
        "import sklearn.metrics\n",
        "from sklearn.preprocessing import StandardScaler\n",
        "import pickle"
      ]
    },
    {
      "cell_type": "code",
      "execution_count": 4,
      "metadata": {
        "id": "I40EUqYyI1Xw"
      },
      "outputs": [],
      "source": [
        "# Import The Train Dataset\n",
        "Dataset = pd.read_excel (r'traindataset_for_intro_to_ml.xlsx') "
      ]
    },
    {
      "cell_type": "code",
      "execution_count": 5,
      "metadata": {
        "colab": {
          "base_uri": "https://localhost:8080/",
          "height": 365
        },
        "id": "Z2eHDtOSJFJw",
        "outputId": "ff162733-d7e8-4c64-c067-9a4752f19d70"
      },
      "outputs": [
        {
          "name": "stdout",
          "output_type": "stream",
          "text": [
            "0    88\n",
            "1     8\n",
            "Name: Outcome, dtype: int64\n",
            "\n",
            "\n"
          ]
        },
        {
          "data": {
            "image/png": "[encoded data removed]",
            "text/plain": [
              "<Figure size 432x288 with 1 Axes>"
            ]
          },
          "metadata": {
            "needs_background": "light"
          },
          "output_type": "display_data"
        }
      ],
      "source": [
        "X = Dataset.iloc[:,1:7] # Inputs\n",
        "Y = Dataset.iloc[:,7:]  # Outputs\n",
        "# Evaluate The Balance Of 'Outcome'\n",
        "print(Dataset.Outcome.value_counts())\n",
        "print(\"\\n\")\n",
        "Dataset.Outcome.value_counts().plot(kind='bar', title='Outcome Values') ;  \n",
        "# As We See The Outcome Values are so imbalanced !!!"
      ]
    },
    {
      "cell_type": "code",
      "execution_count": 6,
      "metadata": {
        "colab": {
          "base_uri": "https://localhost:8080/",
          "height": 486
        },
        "id": "ngZXBn3FKYCb",
        "outputId": "b6fdf0dc-3b3f-4d3f-cdd1-4f66ba5e7afb"
      },
      "outputs": [
        {
          "name": "stdout",
          "output_type": "stream",
          "text": [
            "Data Number Of Split 1  = 0\n",
            "Data Number Of Split 2  = 3\n",
            "Data Number Of Split 3  = 21\n",
            "Data Number Of Split 4  = 35\n",
            "Data Number Of Split 5  = 29\n",
            "\n",
            "After OverSampling\n",
            "0    109\n",
            "1     80\n",
            "Name: Outcome, dtype: int64\n",
            "\n",
            "\n"
          ]
        },
        {
          "data": {
            "image/png": "[encoded data removed]",
            "text/plain": [
              "<Figure size 432x288 with 1 Axes>"
            ]
          },
          "metadata": {
            "needs_background": "light"
          },
          "output_type": "display_data"
        }
      ],
      "source": [
        "# Deviding The Outcome Classes ( 0 & 1 )\n",
        "Class_0 = Dataset [Dataset['Outcome'] == 0]\n",
        "Class_1 = Dataset [Dataset['Outcome'] == 1]\n",
        "# Evaluate The Balance Of 'Twoyears.follow_up.Cobb'\n",
        "Split1 = Dataset [ 0 <= Dataset['Twoyears.follow_up.Cobb']]\n",
        "Split1 = Split1 [  Split1['Twoyears.follow_up.Cobb']< 10] # The Datas That Their 'Twoyears.follow_up.Cobb' Value is in peirod [0 ; 10)\n",
        "\n",
        "Split2 = Dataset [ 10 <= Dataset['Twoyears.follow_up.Cobb']]\n",
        "Split2 = Split2 [  Split2['Twoyears.follow_up.Cobb']< 20] # The Datas That Their 'Twoyears.follow_up.Cobb' Value is in peirod [10 ; 20)\n",
        "\n",
        "Split3 = Dataset [ 20 <= Dataset['Twoyears.follow_up.Cobb']]\n",
        "Split3 = Split3 [  Split3['Twoyears.follow_up.Cobb']< 30] # The Datas That Their 'Twoyears.follow_up.Cobb' Value is in peirod [20 ; 30)\n",
        "\n",
        "Split4 = Dataset [ 30 <= Dataset['Twoyears.follow_up.Cobb']]\n",
        "Split4 = Split4 [  Split4['Twoyears.follow_up.Cobb']< 40] # The Datas That Their 'Twoyears.follow_up.Cobb' Value is in peirod [30 ; 40)\n",
        "\n",
        "Split5 = Dataset [ 40 <= Dataset['Twoyears.follow_up.Cobb']]\n",
        "Split5 = Split5 [  Split5['Twoyears.follow_up.Cobb']<= 50] # The Datas That Their 'Twoyears.follow_up.Cobb' Value is in peirod [40 ; 50]\n",
        "\n",
        "print(f'Data Number Of Split 1  = {len(Split1)}\\nData Number Of Split 2  = {len(Split2)}\\nData Number Of Split 3  = {len(Split3)}\\nData Number Of Split 4  = {len(Split4)}\\nData Number Of Split 5  = {len(Split5)}\\n')\n",
        "\n",
        "# Uniform OverSamplig : Adding More Examples From The Minority 'Outcome' Class ( 1 )\n",
        "# And Adding More Examples From The Minority Split ( Split 2 )\n",
        "\n",
        "Class_1_Over = Class_1 \n",
        "for i in range (9):  # Repeating 'Outcome' Class ( 1 ) For 9 Times\n",
        "  Class_1_Over = pd.concat([Class_1_Over, Class_1], axis=0)\n",
        "\n",
        "New_Dataset = pd.concat([Class_0, Class_1_Over], axis=0)\n",
        "\n",
        "for i in range(7):    # Repeating Split 2 For 7 Times\n",
        "  New_Dataset = pd.concat([New_Dataset, Split2], axis=0)\n",
        "\n",
        "for i in range(50):   # Shuffle The New_Dataset For 50 Times\n",
        "  New_Dataset = shuffle(New_Dataset)\n",
        "\n",
        "print('After OverSampling')\n",
        "print(New_Dataset.Outcome.value_counts())\n",
        "print(\"\\n\")\n",
        "New_Dataset.Outcome.value_counts().plot(kind='bar', title='Outcome Values After OverSampling') ;\n",
        "# Defining Inputs & Output From New_Dataset\n",
        "X_New = New_Dataset.iloc[:,1:7] # New Inputs\n",
        "Y_New = New_Dataset.iloc[:,7:]  # New Outputs\n"
      ]
    },
    {
      "cell_type": "code",
      "execution_count": 7,
      "metadata": {
        "id": "AeNI0v-vou-Q"
      },
      "outputs": [],
      "source": [
        "# Spliting The Whole Dataset Into Train and Valid Dataset\n",
        "X_Train , X_Valid , Y_Train , Y_Valid = train_test_split( X_New , Y_New , test_size= 0.1 , shuffle=True )"
      ]
    },
    {
      "cell_type": "code",
      "execution_count": 8,
      "metadata": {
        "id": "4A1jBjBfpVNG"
      },
      "outputs": [],
      "source": [
        "# Transform The Inputs Of Train_Data To Center it By Removing The Mean Value Of Each Feature & Then Scale It By Dividing Features By Their Standard Deviation.\n",
        "Scaler  = StandardScaler().fit(X_Train.values)\n",
        "X_Train = Scaler.transform(X_Train.values)\n",
        "X_Valid = Scaler.transform(X_Valid.values)"
      ]
    },
    {
      "cell_type": "code",
      "execution_count": 9,
      "metadata": {
        "id": "Mpde9yrZrua5"
      },
      "outputs": [],
      "source": [
        "# Definign The Classifier & Regressor Model\n",
        "Classifier = MLPClassifier( hidden_layer_sizes=(75) ,activation = 'logistic', solver = 'lbfgs' , learning_rate = 'adaptive' , max_iter = 10000 ,\n",
        "                           early_stopping = True , validation_fraction = 0.2, shuffle=True , n_iter_no_change = 25 )\n",
        "# The Classifier Model Will Be Used To Predict The \"Outcome\" Output\n",
        "Regressor  = MLPRegressor ( hidden_layer_sizes=(75,25) , solver = 'adam' , learning_rate = 'adaptive' , max_iter = 10000 ,\n",
        "                           early_stopping = True , validation_fraction = 0.2, shuffle=True , n_iter_no_change = 15 )\n",
        "# The Regressor Model Will Be Used To Predict The \"Twoyears.follow_up.Cobb\" Output "
      ]
    },
    {
      "cell_type": "code",
      "execution_count": 10,
      "metadata": {
        "colab": {
          "base_uri": "https://localhost:8080/",
          "height": 1000
        },
        "id": "nH-bxM4SsIZ4",
        "outputId": "5aabd6fc-a7f8-415b-fead-76b7fae4728d"
      },
      "outputs": [
        {
          "name": "stdout",
          "output_type": "stream",
          "text": [
            "Classifier Score On Valid Dataset = 0.9473684210526315\n",
            "Classifier F1 Score On Valid Dataset = 0.9473684210526316\n",
            "\n",
            "Confusion Matrix Of Classifier Model On Valid Dataset:\n",
            " [[9 1]\n",
            " [0 9]]\n",
            "\n",
            "\n"
          ]
        },
        {
          "data": {
            "image/png": "[encoded data removed]",
            "text/plain": [
              "<Figure size 432x288 with 2 Axes>"
            ]
          },
          "metadata": {
            "needs_background": "light"
          },
          "output_type": "display_data"
        },
        {
          "name": "stdout",
          "output_type": "stream",
          "text": [
            "\n",
            "\n",
            "Confusion Matrix Of Classifier Model On Valid Dataset: (Shown In Percent)\n",
            " [[47.36842105  5.26315789]\n",
            " [ 0.         47.36842105]]\n",
            "\n",
            "\n"
          ]
        },
        {
          "data": {
            "image/png": "[encoded data removed]",
            "text/plain": [
              "<Figure size 432x288 with 2 Axes>"
            ]
          },
          "metadata": {
            "needs_background": "light"
          },
          "output_type": "display_data"
        },
        {
          "name": "stdout",
          "output_type": "stream",
          "text": [
            "\n",
            "\n",
            "-----------------------------------------------------------------------------------------------------\n",
            "Classifier Score On Train Dataset = 1.0\n",
            "Classifier F1 Score On Train Dataset = 1.0\n",
            "\n",
            "Confusion Matrix Of Classifier Model On Train Dataset:\n",
            " [[99  0]\n",
            " [ 0 71]]\n",
            "\n",
            "\n"
          ]
        },
        {
          "data": {
            "image/png": "[encoded data removed]",
            "text/plain": [
              "<Figure size 432x288 with 2 Axes>"
            ]
          },
          "metadata": {
            "needs_background": "light"
          },
          "output_type": "display_data"
        },
        {
          "name": "stdout",
          "output_type": "stream",
          "text": [
            "\n",
            "\n",
            "Confusion Matrix Of Classifier Model On Train Dataset: (Shown In Percent)\n",
            " [[58.23529412  0.        ]\n",
            " [ 0.         41.76470588]]\n",
            "\n",
            "\n"
          ]
        },
        {
          "data": {
            "image/png": "[encoded data removed]",
            "text/plain": [
              "<Figure size 432x288 with 2 Axes>"
            ]
          },
          "metadata": {
            "needs_background": "light"
          },
          "output_type": "display_data"
        },
        {
          "name": "stdout",
          "output_type": "stream",
          "text": [
            "\n",
            "\n"
          ]
        }
      ],
      "source": [
        "# Train The Classifier Model With Train Dataset\n",
        "Classifier.fit( X_Train , Y_Train.iloc[:,1].values )\n",
        "# Evaluate The Trained Classifier Model On Valid Dataset\n",
        "Prediction = Classifier.predict(X_Valid) ;\n",
        "print(f\"Classifier Score On Valid Dataset = {Classifier.score(X_Valid , Y_Valid.iloc[:,1].values)}\")\n",
        "print(f\"Classifier F1 Score On Valid Dataset = {sklearn.metrics.f1_score(Y_Valid.iloc[:,1].values , Prediction)}\\n\")\n",
        "\n",
        "# Calculating And Plotting The Confusion Matrix Of Classifier Model On Valid Dataset\n",
        "Conf_Matrix =  confusion_matrix (Y_Valid.iloc[:,1].values, Prediction) \n",
        "print(f\"Confusion Matrix Of Classifier Model On Valid Dataset:\\n {Conf_Matrix}\")\n",
        "disp = ConfusionMatrixDisplay(confusion_matrix=Conf_Matrix , display_labels=[0 , 1])\n",
        "disp.plot()\n",
        "print(\"\\n\")\n",
        "plt.show()\n",
        "print(\"\\n\")\n",
        "print(f\"Confusion Matrix Of Classifier Model On Valid Dataset: (Shown In Percent)\\n {100*(Conf_Matrix/ len(Prediction))}\")\n",
        "disp = ConfusionMatrixDisplay(confusion_matrix=100*(Conf_Matrix /len(Prediction)) , display_labels=[0 , 1])\n",
        "disp.plot()\n",
        "print(\"\\n\")\n",
        "plt.show()\n",
        "print(\"\\n\")\n",
        "# Evaluate The Trained Classifier Model On Train Dataset\n",
        "Prediction = Classifier.predict(X_Train) ;\n",
        "print(\"-----------------------------------------------------------------------------------------------------\")\n",
        "print(f\"Classifier Score On Train Dataset = {Classifier.score(X_Train , Y_Train.iloc[:,1].values)}\")\n",
        "print(f\"Classifier F1 Score On Train Dataset = {sklearn.metrics.f1_score(Y_Train.iloc[:,1].values , Prediction)}\\n\")\n",
        "# Calculating And Plotting The Confusion Matrix Of Classifier Model On Train Dataset\n",
        "Conf_Matrix =  confusion_matrix (Y_Train.iloc[:,1].values, Prediction) \n",
        "print(f\"Confusion Matrix Of Classifier Model On Train Dataset:\\n {Conf_Matrix}\")\n",
        "disp = ConfusionMatrixDisplay(confusion_matrix=Conf_Matrix , display_labels=[0 , 1])\n",
        "disp.plot()\n",
        "print(\"\\n\")\n",
        "plt.show()\n",
        "print(\"\\n\")\n",
        "print(f\"Confusion Matrix Of Classifier Model On Train Dataset: (Shown In Percent)\\n {100*(Conf_Matrix/ len(Prediction))}\")\n",
        "CM = ( confusion_matrix (Y_Train.iloc[:,1].values, Prediction) / len(Prediction) ) *100 \n",
        "disp = ConfusionMatrixDisplay(confusion_matrix=100*(Conf_Matrix /len(Prediction)) , display_labels=[0 , 1])\n",
        "disp.plot()\n",
        "print(\"\\n\")\n",
        "plt.show()\n",
        "print(\"\\n\")"
      ]
    },
    {
      "cell_type": "code",
      "execution_count": 21,
      "metadata": {
        "colab": {
          "base_uri": "https://localhost:8080/",
          "height": 399
        },
        "id": "07TKkfmA1LUu",
        "outputId": "034fdb5c-f34f-4aab-f5cb-21dce01d589a"
      },
      "outputs": [
        {
          "name": "stdout",
          "output_type": "stream",
          "text": [
            "Regressor R2_Score On Valid Dataset = 0.9479120125973131\n",
            "Regressor RMSE On Valid Dataset = 3.6877024101274722\n",
            "\n",
            "Regressor R2_Score On Train Dataset = 0.9355474672784252\n",
            "Regressor RMSE On Train Dataset = 3.7239942622881075\n",
            "\n"
          ]
        },
        {
          "data": {
            "image/png": "[encoded data removed]",
            "text/plain": [
              "<Figure size 432x288 with 1 Axes>"
            ]
          },
          "metadata": {
            "needs_background": "light"
          },
          "output_type": "display_data"
        }
      ],
      "source": [
        "# Train The Regressor Model With Train Dataset\n",
        "Regressor.fit(X_Train , Y_Train.iloc[:,0].values ) \n",
        "# Evaluate The Trained Regressor Model On Valid Dataset\n",
        "Prediction = Regressor.predict( X_Valid )\n",
        "print(f\"Regressor R2_Score On Valid Dataset = {Regressor.score( X_Valid , Y_Valid.iloc[:,0].values )}\")\n",
        "print(f\"Regressor RMSE On Valid Dataset = {sklearn.metrics.mean_squared_error( Y_Valid.iloc[:,0].values , Prediction , squared = False )}\\n\")\n",
        "# Evaluate The Trained Regressor Model On Train Dataset\n",
        "Prediction = Regressor.predict( X_Train )\n",
        "print(f\"Regressor R2_Score On Train Dataset = {Regressor.score( X_Train , Y_Train.iloc[:,0].values )}\")\n",
        "print(f\"Regressor RMSE On Train Dataset = {sklearn.metrics.mean_squared_error( Y_Train.iloc[:,0].values , Prediction , squared = False )}\\n\")\n",
        "# Plotting The Loss Function Value\n",
        "pd.DataFrame(Regressor.loss_curve_).plot()\n",
        "plt.title(\"Loss Function\")\n",
        "plt.xlabel(\"Number Of Epochs\")\n",
        "plt.ylabel(\"Loss Func. Value\")\n",
        "plt.legend(\"\")\n",
        "plt.grid(\"on\") "
      ]
    },
    {
      "cell_type": "code",
      "execution_count": 22,
      "metadata": {
        "id": "OY0M6CQQtWtM"
      },
      "outputs": [],
      "source": [
        "# Save The Trained Modeles\n",
        "Classifier_filename = 'Trained_Classifier_Model'\n",
        "pickle.dump(Classifier, open(Classifier_filename, 'wb'))\n",
        "\n",
        "Regressor_filename = 'Trained_Regressor_Model'\n",
        "pickle.dump(Regressor, open(Regressor_filename, 'wb'))"
      ]
    },
    {
      "cell_type": "code",
      "execution_count": 23,
      "metadata": {
        "colab": {
          "base_uri": "https://localhost:8080/",
          "height": 888
        },
        "id": "TiH0sgdt9fAX",
        "outputId": "42e03cd4-4114-48e1-f411-040138f3bd1b"
      },
      "outputs": [
        {
          "name": "stdout",
          "output_type": "stream",
          "text": [
            "Classifier Score On Test Dataset = 0.9895833333333334\n",
            "Classifier F1 Score On Test Dataset = 0.9411764705882353\n",
            "\n",
            "Confusion Matrix Of Classifier Model On Test Dataset:\n",
            " [[87  1]\n",
            " [ 0  8]]\n",
            "\n",
            "\n"
          ]
        },
        {
          "data": {
            "image/png": "[encoded data removed]",
            "text/plain": [
              "<Figure size 432x288 with 2 Axes>"
            ]
          },
          "metadata": {
            "needs_background": "light"
          },
          "output_type": "display_data"
        },
        {
          "name": "stdout",
          "output_type": "stream",
          "text": [
            "\n",
            "\n",
            "Confusion Matrix Of Classifier Model On Test Dataset: (Shown In Percent)\n",
            " [[90.625       1.04166667]\n",
            " [ 0.          8.33333333]]\n",
            "\n",
            "\n"
          ]
        },
        {
          "data": {
            "image/png": "[encoded data removed]",
            "text/plain": [
              "<Figure size 432x288 with 2 Axes>"
            ]
          },
          "metadata": {
            "needs_background": "light"
          },
          "output_type": "display_data"
        },
        {
          "name": "stdout",
          "output_type": "stream",
          "text": [
            "\n",
            "---------------------------------------------------------------------------------------------------\n",
            "Regressor R2_Score On Test Dataset = 0.7699485363122898\n",
            "Regressor RMSE On Test Dataset = 5.139948846472641\n",
            "\n"
          ]
        }
      ],
      "source": [
        "# You Can Loade The Saved Models & Evaluate The Models On Your Test Dataset\n",
        "# Import Your Test Dataset : \n",
        "# Test = pd.read_excel (r'Your Test File') \n",
        "# X_Test = Test.iloc[:,1:7] \n",
        "# Y_Test = Test.iloc[:,7:] \n",
        "# X_Test = Scaler.transform(X_Test.values)\n",
        "\n",
        "X_Test = Scaler.transform(X.values)\n",
        "Y_Test = Y\n",
        "# Load The Classifier_Model\n",
        "Loaded_Classifier_Model = pickle.load(open(Classifier_filename, 'rb'))\n",
        "# Evaluate The Classifier Model On Test Dataset\n",
        "Prediction = Classifier.predict(X_Test) ;\n",
        "print(f\"Classifier Score On Test Dataset = {Classifier.score(X_Test , Y_Test.iloc[:,1].values)}\")\n",
        "print(f\"Classifier F1 Score On Test Dataset = {sklearn.metrics.f1_score(Y_Test.iloc[:,1].values , Prediction)}\\n\")\n",
        "# Calculating And Plotting The Confusion Matrix Of Classifier Model On Valid Dataset\n",
        "Conf_Matrix =  confusion_matrix (Y_Test.iloc[:,1].values, Prediction) \n",
        "print(f\"Confusion Matrix Of Classifier Model On Test Dataset:\\n {Conf_Matrix}\")\n",
        "CM = confusion_matrix (Y_Test.iloc[:,1].values, Prediction)\n",
        "disp = ConfusionMatrixDisplay(confusion_matrix=CM , display_labels=[0 , 1])\n",
        "disp.plot()\n",
        "print(\"\\n\")\n",
        "plt.show()\n",
        "print(\"\\n\")\n",
        "print(f\"Confusion Matrix Of Classifier Model On Test Dataset: (Shown In Percent)\\n {100*(Conf_Matrix/ len(Prediction))}\")\n",
        "CM = ( confusion_matrix (Y_Test.iloc[:,1].values, Prediction) / len(Prediction) ) *100 \n",
        "disp = ConfusionMatrixDisplay(confusion_matrix=CM , display_labels=[0 , 1])\n",
        "disp.plot()\n",
        "print(\"\\n\")\n",
        "plt.show()\n",
        "\n",
        "# Load The Regressor_Model\n",
        "Loaded_Regressor_Model = pickle.load(open(Regressor_filename, 'rb'))\n",
        "# Evaluate The Trained Regressor Model On Test Dataset\n",
        "Prediction = Regressor.predict( X_Test )\n",
        "print(\"\\n---------------------------------------------------------------------------------------------------\")\n",
        "print(f\"Regressor R2_Score On Test Dataset = {Regressor.score( X_Test , Y_Test.iloc[:,0].values )}\")\n",
        "print(f\"Regressor RMSE On Test Dataset = {sklearn.metrics.mean_squared_error( Y_Test.iloc[:,0].values , Prediction , squared = False )}\\n\")\n"
      ]
    }
  ],
  "metadata": {
    "colab": {
      "collapsed_sections": [],
      "name": "Question2.ipynb",
      "provenance": []
    },
    "kernelspec": {
      "display_name": "Python 3",
      "name": "python3"
    },
    "language_info": {
      "codemirror_mode": {
        "name": "ipython",
        "version": 3
      },
      "file_extension": ".py",
      "mimetype": "text/x-python",
      "name": "python",
      "nbconvert_exporter": "python",
      "pygments_lexer": "ipython3",
      "version": "3.8.5"
    }
  },
  "nbformat": 4,
  "nbformat_minor": 0
}
